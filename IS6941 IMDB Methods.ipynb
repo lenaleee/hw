{
 "cells": [
  {
   "cell_type": "markdown",
   "id": "0ac81bf1",
   "metadata": {},
   "source": [
    "# IMDB Algorithms:"
   ]
  },
  {
   "cell_type": "code",
   "execution_count": 1,
   "id": "f0cf0ad5",
   "metadata": {},
   "outputs": [],
   "source": [
    "import pandas as pd\n",
    "import numpy as np\n",
    "import sys\n",
    "import re\n",
    "import scikitplot as skplt\n",
    "import math\n",
    "import nltk\n",
    "from sklearn.feature_extraction.text import CountVectorizer, TfidfTransformer\n",
    "from sklearn import neighbors\n",
    "from sklearn.model_selection import train_test_split\n",
    "import matplotlib.pyplot as plt\n",
    "import seaborn as sns\n",
    "from wordcloud import WordCloud\n",
    "count=CountVectorizer()\n",
    "\n",
    "import string\n",
    "import math\n",
    "from sklearn.feature_extraction.text import CountVectorizer\n",
    "from sklearn.model_selection import train_test_split, cross_val_score\n",
    "from sklearn.metrics import classification_report\n",
    "from sklearn.metrics import confusion_matrix, accuracy_score, roc_auc_score, roc_curve\n",
    "from sklearn.model_selection import GridSearchCV"
   ]
  },
  {
   "cell_type": "code",
   "execution_count": 2,
   "id": "7411f9d1",
   "metadata": {},
   "outputs": [
    {
     "data": {
      "text/html": [
       "<div>\n",
       "<style scoped>\n",
       "    .dataframe tbody tr th:only-of-type {\n",
       "        vertical-align: middle;\n",
       "    }\n",
       "\n",
       "    .dataframe tbody tr th {\n",
       "        vertical-align: top;\n",
       "    }\n",
       "\n",
       "    .dataframe thead th {\n",
       "        text-align: right;\n",
       "    }\n",
       "</style>\n",
       "<table border=\"1\" class=\"dataframe\">\n",
       "  <thead>\n",
       "    <tr style=\"text-align: right;\">\n",
       "      <th></th>\n",
       "      <th>userId</th>\n",
       "      <th>reviewDate</th>\n",
       "      <th>userReview</th>\n",
       "      <th>movieId</th>\n",
       "      <th>class</th>\n",
       "    </tr>\n",
       "  </thead>\n",
       "  <tbody>\n",
       "    <tr>\n",
       "      <th>0</th>\n",
       "      <td>80735290</td>\n",
       "      <td>26-11月-21</td>\n",
       "      <td>That's all this really is to me. A Loveletter ...</td>\n",
       "      <td>15005868</td>\n",
       "      <td>1.0</td>\n",
       "    </tr>\n",
       "    <tr>\n",
       "      <th>1</th>\n",
       "      <td>139254098</td>\n",
       "      <td>25-11月-21</td>\n",
       "      <td>Trey and Matt show once again that they can co...</td>\n",
       "      <td>15005868</td>\n",
       "      <td>1.0</td>\n",
       "    </tr>\n",
       "    <tr>\n",
       "      <th>2</th>\n",
       "      <td>118562022</td>\n",
       "      <td>25-11月-21</td>\n",
       "      <td>If you're a fan of South Park, you'll love thi...</td>\n",
       "      <td>15005868</td>\n",
       "      <td>1.0</td>\n",
       "    </tr>\n",
       "    <tr>\n",
       "      <th>3</th>\n",
       "      <td>548970</td>\n",
       "      <td>25-11月-21</td>\n",
       "      <td>It's fun seeing the boys all grown up. Yeah th...</td>\n",
       "      <td>15005868</td>\n",
       "      <td>1.0</td>\n",
       "    </tr>\n",
       "    <tr>\n",
       "      <th>4</th>\n",
       "      <td>23053711</td>\n",
       "      <td>25-11月-21</td>\n",
       "      <td>South Park has always been great at poking hol...</td>\n",
       "      <td>15005868</td>\n",
       "      <td>1.0</td>\n",
       "    </tr>\n",
       "  </tbody>\n",
       "</table>\n",
       "</div>"
      ],
      "text/plain": [
       "      userId reviewDate                                         userReview  \\\n",
       "0   80735290  26-11月-21  That's all this really is to me. A Loveletter ...   \n",
       "1  139254098  25-11月-21  Trey and Matt show once again that they can co...   \n",
       "2  118562022  25-11月-21  If you're a fan of South Park, you'll love thi...   \n",
       "3     548970  25-11月-21  It's fun seeing the boys all grown up. Yeah th...   \n",
       "4   23053711  25-11月-21  South Park has always been great at poking hol...   \n",
       "\n",
       "    movieId  class  \n",
       "0  15005868    1.0  \n",
       "1  15005868    1.0  \n",
       "2  15005868    1.0  \n",
       "3  15005868    1.0  \n",
       "4  15005868    1.0  "
      ]
     },
     "execution_count": 2,
     "metadata": {},
     "output_type": "execute_result"
    }
   ],
   "source": [
    "imdb_review = pd.read_csv('movie_review_info_full1.csv', sep = ';')\n",
    "imdb_review.head()"
   ]
  },
  {
   "cell_type": "code",
   "execution_count": 3,
   "id": "448fecd6",
   "metadata": {},
   "outputs": [
    {
     "data": {
      "text/plain": [
       "(4169, 5)"
      ]
     },
     "execution_count": 3,
     "metadata": {},
     "output_type": "execute_result"
    }
   ],
   "source": [
    "np.shape(imdb_review)"
   ]
  },
  {
   "cell_type": "code",
   "execution_count": 4,
   "id": "3dcf0946",
   "metadata": {},
   "outputs": [
    {
     "data": {
      "text/plain": [
       "1.0     2151\n",
       "0.0     2016\n",
       "11.0       1\n",
       "Name: class, dtype: int64"
      ]
     },
     "execution_count": 4,
     "metadata": {},
     "output_type": "execute_result"
    }
   ],
   "source": [
    "imdb_review[\"class\"].value_counts()"
   ]
  },
  {
   "cell_type": "code",
   "execution_count": 5,
   "id": "f636c20d",
   "metadata": {},
   "outputs": [],
   "source": [
    "# Remove 11, NaN in \"class\":\n",
    "imdb_review[\"class\"] = imdb_review[\"class\"].replace([11.0], [1])\n",
    "Total_class = imdb_review['class'].tolist()\n",
    "Total_class = list(map(lambda x: 0.0 if math.isnan(x) else x, Total_class))\n",
    "\n",
    "imdb_review[\"class\"] = Total_class"
   ]
  },
  {
   "cell_type": "code",
   "execution_count": 6,
   "id": "43546409",
   "metadata": {},
   "outputs": [
    {
     "data": {
      "text/html": [
       "<div>\n",
       "<style scoped>\n",
       "    .dataframe tbody tr th:only-of-type {\n",
       "        vertical-align: middle;\n",
       "    }\n",
       "\n",
       "    .dataframe tbody tr th {\n",
       "        vertical-align: top;\n",
       "    }\n",
       "\n",
       "    .dataframe thead th {\n",
       "        text-align: right;\n",
       "    }\n",
       "</style>\n",
       "<table border=\"1\" class=\"dataframe\">\n",
       "  <thead>\n",
       "    <tr style=\"text-align: right;\">\n",
       "      <th></th>\n",
       "      <th>userId</th>\n",
       "      <th>reviewDate</th>\n",
       "      <th>userReview</th>\n",
       "      <th>movieId</th>\n",
       "      <th>class</th>\n",
       "    </tr>\n",
       "  </thead>\n",
       "  <tbody>\n",
       "    <tr>\n",
       "      <th>0</th>\n",
       "      <td>80735290</td>\n",
       "      <td>26-11月-21</td>\n",
       "      <td>That's all this really is to me. A Loveletter ...</td>\n",
       "      <td>15005868</td>\n",
       "      <td>1.0</td>\n",
       "    </tr>\n",
       "    <tr>\n",
       "      <th>1</th>\n",
       "      <td>139254098</td>\n",
       "      <td>25-11月-21</td>\n",
       "      <td>Trey and Matt show once again that they can co...</td>\n",
       "      <td>15005868</td>\n",
       "      <td>1.0</td>\n",
       "    </tr>\n",
       "    <tr>\n",
       "      <th>2</th>\n",
       "      <td>118562022</td>\n",
       "      <td>25-11月-21</td>\n",
       "      <td>If you're a fan of South Park, you'll love thi...</td>\n",
       "      <td>15005868</td>\n",
       "      <td>1.0</td>\n",
       "    </tr>\n",
       "    <tr>\n",
       "      <th>3</th>\n",
       "      <td>548970</td>\n",
       "      <td>25-11月-21</td>\n",
       "      <td>It's fun seeing the boys all grown up. Yeah th...</td>\n",
       "      <td>15005868</td>\n",
       "      <td>1.0</td>\n",
       "    </tr>\n",
       "    <tr>\n",
       "      <th>4</th>\n",
       "      <td>23053711</td>\n",
       "      <td>25-11月-21</td>\n",
       "      <td>South Park has always been great at poking hol...</td>\n",
       "      <td>15005868</td>\n",
       "      <td>1.0</td>\n",
       "    </tr>\n",
       "  </tbody>\n",
       "</table>\n",
       "</div>"
      ],
      "text/plain": [
       "      userId reviewDate                                         userReview  \\\n",
       "0   80735290  26-11月-21  That's all this really is to me. A Loveletter ...   \n",
       "1  139254098  25-11月-21  Trey and Matt show once again that they can co...   \n",
       "2  118562022  25-11月-21  If you're a fan of South Park, you'll love thi...   \n",
       "3     548970  25-11月-21  It's fun seeing the boys all grown up. Yeah th...   \n",
       "4   23053711  25-11月-21  South Park has always been great at poking hol...   \n",
       "\n",
       "    movieId  class  \n",
       "0  15005868    1.0  \n",
       "1  15005868    1.0  \n",
       "2  15005868    1.0  \n",
       "3  15005868    1.0  \n",
       "4  15005868    1.0  "
      ]
     },
     "execution_count": 6,
     "metadata": {},
     "output_type": "execute_result"
    }
   ],
   "source": [
    "imdb_review.head()"
   ]
  },
  {
   "cell_type": "code",
   "execution_count": 7,
   "id": "84dfb284",
   "metadata": {},
   "outputs": [
    {
     "data": {
      "text/plain": [
       "str"
      ]
     },
     "execution_count": 7,
     "metadata": {},
     "output_type": "execute_result"
    }
   ],
   "source": [
    "userReview = imdb_review['userReview']\n",
    "type(userReview[0])"
   ]
  },
  {
   "cell_type": "code",
   "execution_count": 15,
   "id": "ffcdb7e3",
   "metadata": {},
   "outputs": [],
   "source": [
    "# Partation of training and testing set:\n",
    "# randomly split your data to train and test data\n",
    "X_train, X_test, y_train, y_test = train_test_split(imdb_review['userReview'], class_test, stratify = class_test)"
   ]
  },
  {
   "cell_type": "code",
   "execution_count": null,
   "id": "fe8e096c",
   "metadata": {},
   "outputs": [],
   "source": []
  },
  {
   "cell_type": "code",
   "execution_count": 68,
   "id": "531134c8",
   "metadata": {},
   "outputs": [],
   "source": [
    "from sklearn import preprocessing\n",
    "from sklearn.model_selection import cross_val_score, cross_val_predict\n",
    "from sklearn.metrics import accuracy_score, classification_report\n",
    "from sklearn.metrics import confusion_matrix, roc_auc_score\n",
    "def print_score(clf, X_train, X_test, y_train, y_test, train=True):\n",
    "    '''\n",
    "    v0.1 Follow the scikit learn library format in terms of input\n",
    "    print the accuracy score, classification report and confusion matrix of classifier\n",
    "    '''\n",
    "    lb = preprocessing.LabelBinarizer()\n",
    "    lb.fit(y_train)\n",
    "    if train:\n",
    "        '''\n",
    "        training performance\n",
    "        '''\n",
    "        res = clf.predict(X_train)\n",
    "        print(\"Train Result:\\n\")\n",
    "        print(\"accuracy score: {0:.4f}\\n\".format(accuracy_score(y_train, \n",
    "                                                                res)))\n",
    "        print(\"Classification Report: \\n {}\\n\".format(classification_report(y_train, \n",
    "                                                                            res)))\n",
    "        print(\"Confusion Matrix: \\n {}\\n\".format(confusion_matrix(y_train, \n",
    "                                                                  res)))\n",
    "        print(\"ROC AUC: {0:.4f}\\n\".format(roc_auc_score(lb.transform(y_train), \n",
    "                                                      lb.transform(res))))\n",
    "\n",
    "#        res = cross_val_score(clf, X_train, y_train, cv=10, scoring='accuracy')\n",
    "#        print(\"Average Accuracy: \\t {0:.4f}\".format(np.mean(res)))\n",
    "#        print(\"Accuracy SD: \\t\\t {0:.4f}\".format(np.std(res)))\n",
    "        \n",
    "    elif train==False:\n",
    "        '''\n",
    "        test performance\n",
    "        '''\n",
    "        res_test = clf.predict(X_test)\n",
    "        print(\"Test Result:\\n\")        \n",
    "        print(\"accuracy score: {0:.4f}\\n\".format(accuracy_score(y_test, \n",
    "                                                                res_test)))\n",
    "        print(\"Classification Report: \\n {}\\n\".format(classification_report(y_test, \n",
    "                                                                            res_test)))\n",
    "        print(\"Confusion Matrix: \\n {}\\n\".format(confusion_matrix(y_test, \n",
    "                                                                  res_test)))   \n",
    "        print(\"ROC AUC: {0:.4f}\\n\".format(roc_auc_score(lb.transform(y_test), \n",
    "                                                      lb.transform(res_test))))"
   ]
  },
  {
   "cell_type": "code",
   "execution_count": null,
   "id": "45ba0ab0",
   "metadata": {},
   "outputs": [],
   "source": []
  },
  {
   "cell_type": "markdown",
   "id": "fb8e3b14",
   "metadata": {},
   "source": [
    "# Method 1: Sentiment Analysis -- Lexicon Method"
   ]
  },
  {
   "cell_type": "code",
   "execution_count": 9,
   "id": "b497db49",
   "metadata": {},
   "outputs": [],
   "source": [
    "## Segmentation with blank\n",
    "def segment_content(content):\n",
    "    tokens = re.split('[ ;.?|:!,\"\")('']', content)#,.\\|\\?;:\n",
    "    processed_tokens = []\n",
    "    for token in tokens:\n",
    "        if token != '':\n",
    "            #print token\n",
    "            processed_tokens.append(token)\n",
    "    return processed_tokens"
   ]
  },
  {
   "cell_type": "code",
   "execution_count": 10,
   "id": "2033a626",
   "metadata": {},
   "outputs": [],
   "source": [
    "## Calculate sentiments\n",
    "## Sentiment score of a review =\n",
    "# (No. of positive words - No. of negative words) / (No. of positive words + No. of negative words)\n",
    "senti_file = open('senti_lexicon.tff', 'r')  # sys.argv[0] - file path and name of sentiment lexicon\n",
    "line = senti_file.readline().strip()\n",
    "neg_lists = []\n",
    "pos_lists = []\n",
    "while line:\n",
    "    attributes = line.split(' ')\n",
    "    att_nums = len(attributes)\n",
    "    word = attributes[2].split('=')[1]\n",
    "    word_polarity = attributes[att_nums - 1].split('=')[1]\n",
    "    if word_polarity == 'negative' or word_polarity == 'both':\n",
    "        if word not in neg_lists:\n",
    "            neg_lists.append(word)\n",
    "    if word_polarity == 'positive' or word_polarity == 'both':\n",
    "        if word not in pos_lists:\n",
    "            pos_lists.append(word)\n",
    "    line = senti_file.readline().strip()\n",
    "senti_file.close()"
   ]
  },
  {
   "cell_type": "code",
   "execution_count": 11,
   "id": "0f165d88",
   "metadata": {},
   "outputs": [],
   "source": [
    "TotalSS = []\n",
    "for b in range(4169):\n",
    "    SingleReview = userReview[b].strip().lower()\n",
    "    ## Calculate sentiments\n",
    "    ## Sentiment score of a review =\n",
    "    # (No. of positive words - No. of negative words) / (No. of positive words + No. of negative words)    \n",
    "    neg_nums = 0\n",
    "    pos_nums = 0\n",
    "    neg_words = []\n",
    "    pos_words = []\n",
    "    \n",
    "    tokens = segment_content(SingleReview)  # sys.argv[0] - file path and name of review\n",
    "    for token in tokens:\n",
    "        if token in neg_lists:\n",
    "            neg_words.append(token)\n",
    "            neg_nums += 1\n",
    "        if token in pos_lists:\n",
    "            pos_words.append(token)\n",
    "            pos_nums += 1\n",
    "          \n",
    "    if pos_nums == 0 and neg_nums == 0:\n",
    "        sentimentScore = 0\n",
    "    else:\n",
    "        sentimentScore = float(pos_nums - neg_nums) / float(pos_nums + neg_nums)\n",
    "    TotalSS.append(sentimentScore)"
   ]
  },
  {
   "cell_type": "code",
   "execution_count": 12,
   "id": "e23b7c69",
   "metadata": {},
   "outputs": [],
   "source": [
    "SentimentResult = []\n",
    "for c in range(4169):\n",
    "    if TotalSS[c] > 0:\n",
    "        SR = 1\n",
    "    else:\n",
    "        SR = 0\n",
    "    SentimentResult.append(SR)"
   ]
  },
  {
   "cell_type": "code",
   "execution_count": 13,
   "id": "5d98445e",
   "metadata": {},
   "outputs": [
    {
     "data": {
      "text/plain": [
       "<AxesSubplot:title={'center':'Confusion Matrix'}, xlabel='Predicted label', ylabel='True label'>"
      ]
     },
     "execution_count": 13,
     "metadata": {},
     "output_type": "execute_result"
    },
    {
     "data": {
      "image/png": "[encoded data removed]",
      "text/plain": [
       "<Figure size 432x288 with 2 Axes>"
      ]
     },
     "metadata": {
      "needs_background": "light"
     },
     "output_type": "display_data"
    }
   ],
   "source": [
    "class_predict = SentimentResult\n",
    "class_test = imdb_review[\"class\"]\n",
    "\n",
    "# Confusion Matrix:\n",
    "skplt.metrics.plot_confusion_matrix(class_test, class_predict)"
   ]
  },
  {
   "cell_type": "code",
   "execution_count": 14,
   "id": "ce8136e7",
   "metadata": {
    "scrolled": true
   },
   "outputs": [
    {
     "name": "stdout",
     "output_type": "stream",
     "text": [
      "Score: 66.51\n",
      "Classification Report:               precision    recall  f1-score   support\n",
      "\n",
      "         0.0       0.77      0.44      0.56      2017\n",
      "         1.0       0.63      0.88      0.73      2152\n",
      "\n",
      "    accuracy                           0.67      4169\n",
      "   macro avg       0.70      0.66      0.65      4169\n",
      "weighted avg       0.69      0.67      0.65      4169\n",
      "\n"
     ]
    }
   ],
   "source": [
    "print(\"Score:\",round(accuracy_score(class_test, class_predict)*100,2))\n",
    "print(\"Classification Report:\",classification_report(class_test, class_predict))"
   ]
  },
  {
   "cell_type": "markdown",
   "id": "c7b6c71e",
   "metadata": {},
   "source": [
    "# Method 2: KNN:"
   ]
  },
  {
   "cell_type": "code",
   "execution_count": 21,
   "id": "5fa7f359",
   "metadata": {},
   "outputs": [],
   "source": [
    "# Build TFIDF vectors based on training tweets\n",
    "training_labels = y_train\n",
    "training_features = X_train.values\n",
    "# max_df=0.5: ingnore terms with document frequency higher than the given threshold\n",
    "count_vec1 = CountVectorizer(stop_words = 'english', max_df = 0.5, decode_error = 'ignore')\n",
    "counts_train = count_vec1.fit_transform(training_features)\n",
    "tfidftransformer = TfidfTransformer()\n",
    "tfidf_train = tfidftransformer.fit(counts_train).transform(counts_train)"
   ]
  },
  {
   "cell_type": "code",
   "execution_count": 22,
   "id": "407c6633",
   "metadata": {},
   "outputs": [],
   "source": [
    "# Build TFIDF vectors based on testing tweets\n",
    "validation_labels = y_test\n",
    "validation_features = X_test.values\n",
    "count_vec2 = CountVectorizer(vocabulary = count_vec1.vocabulary_, stop_words = 'english', max_df = 0.5, decode_error = 'ignore')\n",
    "counts_valid = count_vec2.fit_transform(validation_features)\n",
    "tfidf_valid = tfidftransformer.fit(counts_valid).transform(counts_valid)"
   ]
  },
  {
   "cell_type": "code",
   "execution_count": 25,
   "id": "7d559633",
   "metadata": {},
   "outputs": [
    {
     "data": {
      "text/plain": [
       "<matplotlib.legend.Legend at 0x1a4383ddeb0>"
      ]
     },
     "execution_count": 25,
     "metadata": {},
     "output_type": "execute_result"
    },
    {
     "data": {
      "image/png": "[encoded data removed]",
      "text/plain": [
       "<Figure size 432x288 with 1 Axes>"
      ]
     },
     "metadata": {
      "needs_background": "light"
     },
     "output_type": "display_data"
    }
   ],
   "source": [
    "# next we will try KNN classification with different K \n",
    "# initialize vectors to save results, in sample and out of sample accuracy\n",
    "training_accuracy = [] \n",
    "test_accuracy = []\n",
    "\n",
    "# try n_neighbors from 1 to 10 neighbors_settings = range(1, 11)\n",
    "neighbors_settings = range(1, 350)\n",
    "\n",
    "for n_neighbors in neighbors_settings:\n",
    "    # build the model\n",
    "    clf = neighbors.KNeighborsClassifier(n_neighbors=n_neighbors) \n",
    "    clf.fit(tfidf_train, training_labels)\n",
    "    # record training set accuracy \n",
    "    training_accuracy.append(clf.score(tfidf_train, training_labels)) \n",
    "    # record generalization accuracy \n",
    "    test_accuracy.append(clf.score(tfidf_valid, validation_labels))\n",
    "\n",
    "plt.plot(neighbors_settings, training_accuracy, label=\"training accuracy\")\n",
    "plt.plot(neighbors_settings, test_accuracy, label=\"test accuracy\")\n",
    "plt.ylabel(\"Accuracy\")\n",
    "plt.xlabel(\"n_neighbors\")\n",
    "plt.legend()"
   ]
  },
  {
   "cell_type": "code",
   "execution_count": 26,
   "id": "b4fc241d",
   "metadata": {},
   "outputs": [
    {
     "data": {
      "text/plain": [
       "142"
      ]
     },
     "execution_count": 26,
     "metadata": {},
     "output_type": "execute_result"
    }
   ],
   "source": [
    "test_accuracy.index(max(test_accuracy))+1"
   ]
  },
  {
   "cell_type": "code",
   "execution_count": 71,
   "id": "63918b02",
   "metadata": {},
   "outputs": [],
   "source": [
    "# Use KNN to classify the texts of validation set\n",
    "knn = neighbors.KNeighborsClassifier(n_neighbors = 142)\n",
    "knn.fit(tfidf_train, training_labels)\n",
    "predict_results = knn.predict(tfidf_valid)"
   ]
  },
  {
   "cell_type": "code",
   "execution_count": 72,
   "id": "ac5e0c4a",
   "metadata": {},
   "outputs": [
    {
     "data": {
      "text/plain": [
       "<AxesSubplot:title={'center':'Confusion Matrix'}, xlabel='Predicted label', ylabel='True label'>"
      ]
     },
     "execution_count": 72,
     "metadata": {},
     "output_type": "execute_result"
    },
    {
     "data": {
      "image/png": "[encoded data removed]",
      "text/plain": [
       "<Figure size 432x288 with 2 Axes>"
      ]
     },
     "metadata": {
      "needs_background": "light"
     },
     "output_type": "display_data"
    }
   ],
   "source": [
    "# Confusion Matrix:\n",
    "skplt.metrics.plot_confusion_matrix(validation_labels, predict_results)"
   ]
  },
  {
   "cell_type": "code",
   "execution_count": 81,
   "id": "86be0954",
   "metadata": {},
   "outputs": [],
   "source": [
    "#print(\"Score:\",round(accuracy_score(validation_labels, predict_results)*100,2))\n",
    "#print(\"Classification Report:\",classification_report(validation_labels, predict_results))"
   ]
  },
  {
   "cell_type": "code",
   "execution_count": 74,
   "id": "de6f089b",
   "metadata": {},
   "outputs": [
    {
     "name": "stdout",
     "output_type": "stream",
     "text": [
      "Train Result:\n",
      "\n",
      "accuracy score: 0.7799\n",
      "\n",
      "Classification Report: \n",
      "               precision    recall  f1-score   support\n",
      "\n",
      "         0.0       0.86      0.65      0.74      1512\n",
      "         1.0       0.73      0.90      0.81      1614\n",
      "\n",
      "    accuracy                           0.78      3126\n",
      "   macro avg       0.80      0.78      0.77      3126\n",
      "weighted avg       0.80      0.78      0.78      3126\n",
      "\n",
      "\n",
      "Confusion Matrix: \n",
      " [[ 978  534]\n",
      " [ 154 1460]]\n",
      "\n",
      "ROC AUC: 0.7757\n",
      "\n",
      "\n",
      "******************************\n",
      "\n",
      "Test Result:\n",
      "\n",
      "accuracy score: 0.7843\n",
      "\n",
      "Classification Report: \n",
      "               precision    recall  f1-score   support\n",
      "\n",
      "         0.0       0.88      0.64      0.74       505\n",
      "         1.0       0.73      0.92      0.81       538\n",
      "\n",
      "    accuracy                           0.78      1043\n",
      "   macro avg       0.81      0.78      0.78      1043\n",
      "weighted avg       0.80      0.78      0.78      1043\n",
      "\n",
      "\n",
      "Confusion Matrix: \n",
      " [[324 181]\n",
      " [ 44 494]]\n",
      "\n",
      "ROC AUC: 0.7799\n",
      "\n"
     ]
    }
   ],
   "source": [
    "print_score(knn, tfidf_train, tfidf_valid, training_labels, validation_labels, train=True)\n",
    "print(\"\\n******************************\\n\")\n",
    "print_score(knn, tfidf_train, tfidf_valid, training_labels, validation_labels, train=False)"
   ]
  },
  {
   "cell_type": "markdown",
   "id": "af31cd73",
   "metadata": {},
   "source": [
    "# Method 3: Random Forest:"
   ]
  },
  {
   "cell_type": "code",
   "execution_count": 36,
   "id": "c67ec099",
   "metadata": {},
   "outputs": [],
   "source": [
    "from sklearn.ensemble import RandomForestClassifier"
   ]
  },
  {
   "cell_type": "code",
   "execution_count": 41,
   "id": "be0f76aa",
   "metadata": {},
   "outputs": [],
   "source": [
    "# Grid Search:\n",
    "rmfr = RandomForestClassifier(random_state=2022)\n",
    "params_grid = {\"max_samples\": [0.1, 0.2, 0.3, 0.4, 0.5, 0.6, 0.7, 0.8, 0.9],\n",
    "               \"max_features\": [1,2,3,4,5,6,7,8]}\n",
    "#               \"max_depth\": [3, None],\n",
    "#               \"min_samples_split\": [2, 3, 10],\n",
    "#               \"min_samples_leaf\": [1, 3, 10],\n",
    "#               \"bootstrap\": [True, False],\n",
    "#               \"criterion\": ['gini', 'entropy']}"
   ]
  },
  {
   "cell_type": "code",
   "execution_count": 42,
   "id": "dda3ee52",
   "metadata": {},
   "outputs": [
    {
     "name": "stdout",
     "output_type": "stream",
     "text": [
      "Fitting 5 folds for each of 72 candidates, totalling 360 fits\n"
     ]
    },
    {
     "data": {
      "text/plain": [
       "GridSearchCV(cv=5, estimator=RandomForestClassifier(random_state=2022),\n",
       "             n_jobs=-1,\n",
       "             param_grid={'max_features': [1, 2, 3, 4, 5, 6, 7, 8],\n",
       "                         'max_samples': [0.1, 0.2, 0.3, 0.4, 0.5, 0.6, 0.7, 0.8,\n",
       "                                         0.9]},\n",
       "             scoring='accuracy', verbose=1)"
      ]
     },
     "execution_count": 42,
     "metadata": {},
     "output_type": "execute_result"
    }
   ],
   "source": [
    "from sklearn.model_selection import GridSearchCV\n",
    "grid_search = GridSearchCV(rmfr, params_grid,\n",
    "                           n_jobs=-1, cv=5,\n",
    "                           verbose=1, scoring='accuracy')\n",
    "\n",
    "grid_search.fit(tfidf_train, training_labels)"
   ]
  },
  {
   "cell_type": "code",
   "execution_count": 43,
   "id": "de4331e7",
   "metadata": {},
   "outputs": [
    {
     "data": {
      "text/plain": [
       "0.7859905431309905"
      ]
     },
     "execution_count": 43,
     "metadata": {},
     "output_type": "execute_result"
    }
   ],
   "source": [
    "grid_search.best_score_"
   ]
  },
  {
   "cell_type": "code",
   "execution_count": 44,
   "id": "fbfd055c",
   "metadata": {},
   "outputs": [
    {
     "data": {
      "text/plain": [
       "{'bootstrap': True,\n",
       " 'ccp_alpha': 0.0,\n",
       " 'class_weight': None,\n",
       " 'criterion': 'gini',\n",
       " 'max_depth': None,\n",
       " 'max_features': 7,\n",
       " 'max_leaf_nodes': None,\n",
       " 'max_samples': 0.5,\n",
       " 'min_impurity_decrease': 0.0,\n",
       " 'min_impurity_split': None,\n",
       " 'min_samples_leaf': 1,\n",
       " 'min_samples_split': 2,\n",
       " 'min_weight_fraction_leaf': 0.0,\n",
       " 'n_estimators': 100,\n",
       " 'n_jobs': None,\n",
       " 'oob_score': False,\n",
       " 'random_state': 2022,\n",
       " 'verbose': 0,\n",
       " 'warm_start': False}"
      ]
     },
     "execution_count": 44,
     "metadata": {},
     "output_type": "execute_result"
    }
   ],
   "source": [
    "grid_search.best_estimator_.get_params()"
   ]
  },
  {
   "cell_type": "code",
   "execution_count": 54,
   "id": "8d06b9ea",
   "metadata": {},
   "outputs": [],
   "source": [
    "rmfr = RandomForestClassifier(bootstrap = True,\n",
    " ccp_alpha = 0.0,\n",
    " class_weight = None,\n",
    " criterion = 'gini',\n",
    " max_depth = None,\n",
    " max_features = 7,\n",
    " max_leaf_nodes = None,\n",
    " max_samples = 0.5,\n",
    " min_impurity_decrease = 0.0,\n",
    " min_impurity_split = None,\n",
    " min_samples_leaf = 1,\n",
    " min_samples_split = 2,\n",
    " min_weight_fraction_leaf = 0.0,\n",
    " n_estimators = 100,\n",
    " n_jobs = None,\n",
    " oob_score = False,\n",
    " random_state = 2022,\n",
    " verbose = 0,\n",
    " warm_start = False)\n",
    "rmfr.fit(tfidf_train, training_labels)\n",
    "predrmfr = rmfr.predict(tfidf_valid)"
   ]
  },
  {
   "cell_type": "code",
   "execution_count": 55,
   "id": "93709f28",
   "metadata": {},
   "outputs": [
    {
     "data": {
      "text/plain": [
       "<AxesSubplot:title={'center':'Confusion Matrix'}, xlabel='Predicted label', ylabel='True label'>"
      ]
     },
     "execution_count": 55,
     "metadata": {},
     "output_type": "execute_result"
    },
    {
     "data": {
      "image/png": "[encoded data removed]",
      "text/plain": [
       "<Figure size 432x288 with 2 Axes>"
      ]
     },
     "metadata": {
      "needs_background": "light"
     },
     "output_type": "display_data"
    }
   ],
   "source": [
    "# Confusion Matrix:\n",
    "skplt.metrics.plot_confusion_matrix(validation_labels,predrmfr)"
   ]
  },
  {
   "cell_type": "code",
   "execution_count": 80,
   "id": "eed1c663",
   "metadata": {},
   "outputs": [],
   "source": [
    "#print(\"Score:\",round(accuracy_score(validation_labels,predrmfr)*100,2))\n",
    "#print(\"Classification Report:\",classification_report(validation_labels,predrmfr))"
   ]
  },
  {
   "cell_type": "code",
   "execution_count": 69,
   "id": "8a991803",
   "metadata": {},
   "outputs": [
    {
     "name": "stdout",
     "output_type": "stream",
     "text": [
      "Train Result:\n",
      "\n",
      "accuracy score: 0.9994\n",
      "\n",
      "Classification Report: \n",
      "               precision    recall  f1-score   support\n",
      "\n",
      "         0.0       1.00      1.00      1.00      1512\n",
      "         1.0       1.00      1.00      1.00      1614\n",
      "\n",
      "    accuracy                           1.00      3126\n",
      "   macro avg       1.00      1.00      1.00      3126\n",
      "weighted avg       1.00      1.00      1.00      3126\n",
      "\n",
      "\n",
      "Confusion Matrix: \n",
      " [[1510    2]\n",
      " [   0 1614]]\n",
      "\n",
      "ROC AUC: 0.9993\n",
      "\n",
      "\n",
      "******************************\n",
      "\n",
      "Test Result:\n",
      "\n",
      "accuracy score: 0.7814\n",
      "\n",
      "Classification Report: \n",
      "               precision    recall  f1-score   support\n",
      "\n",
      "         0.0       0.79      0.74      0.77       505\n",
      "         1.0       0.77      0.82      0.79       538\n",
      "\n",
      "    accuracy                           0.78      1043\n",
      "   macro avg       0.78      0.78      0.78      1043\n",
      "weighted avg       0.78      0.78      0.78      1043\n",
      "\n",
      "\n",
      "Confusion Matrix: \n",
      " [[374 131]\n",
      " [ 97 441]]\n",
      "\n",
      "ROC AUC: 0.7801\n",
      "\n"
     ]
    }
   ],
   "source": [
    "print_score(grid_search, tfidf_train, tfidf_valid, training_labels, validation_labels, train=True)\n",
    "print(\"\\n******************************\\n\")\n",
    "print_score(grid_search, tfidf_train, tfidf_valid, training_labels, validation_labels, train=False)"
   ]
  },
  {
   "cell_type": "markdown",
   "id": "05a13a30",
   "metadata": {},
   "source": [
    "# Method 4: Logistic Regression Method:"
   ]
  },
  {
   "cell_type": "code",
   "execution_count": 75,
   "id": "76c72dc5",
   "metadata": {},
   "outputs": [
    {
     "name": "stderr",
     "output_type": "stream",
     "text": [
      "[Parallel(n_jobs=-1)]: Using backend LokyBackend with 8 concurrent workers.\n",
      "[Parallel(n_jobs=-1)]: Done   3 out of  10 | elapsed:    6.8s remaining:   15.9s\n",
      "[Parallel(n_jobs=-1)]: Done   7 out of  10 | elapsed:    7.2s remaining:    3.0s\n",
      "[Parallel(n_jobs=-1)]: Done  10 out of  10 | elapsed:    8.5s finished\n"
     ]
    }
   ],
   "source": [
    "# Fit the Logistic Regression:\n",
    "from sklearn.linear_model import LogisticRegressionCV\n",
    "\n",
    "clf = LogisticRegressionCV(cv = 10, scoring = 'accuracy', random_state=2022, n_jobs=-1, verbose=3, max_iter=500).fit(tfidf_train, training_labels)\n",
    "\n",
    "y_LR_pred = clf.predict(tfidf_valid)"
   ]
  },
  {
   "cell_type": "code",
   "execution_count": 76,
   "id": "286b5884",
   "metadata": {
    "scrolled": true
   },
   "outputs": [
    {
     "data": {
      "text/plain": [
       "<AxesSubplot:title={'center':'Confusion Matrix'}, xlabel='Predicted label', ylabel='True label'>"
      ]
     },
     "execution_count": 76,
     "metadata": {},
     "output_type": "execute_result"
    },
    {
     "data": {
      "image/png": "[encoded data removed]",
      "text/plain": [
       "<Figure size 432x288 with 2 Axes>"
      ]
     },
     "metadata": {
      "needs_background": "light"
     },
     "output_type": "display_data"
    }
   ],
   "source": [
    "# Confusion Matrix:\n",
    "skplt.metrics.plot_confusion_matrix(validation_labels, y_LR_pred)"
   ]
  },
  {
   "cell_type": "code",
   "execution_count": 79,
   "id": "4ed97c26",
   "metadata": {},
   "outputs": [],
   "source": [
    "#print(\"Score:\",round(accuracy_score(validation_labels, y_LR_pred)*100,2))\n",
    "#print(\"Classification Report:\",classification_report(validation_labels, y_LR_pred))"
   ]
  },
  {
   "cell_type": "code",
   "execution_count": 78,
   "id": "0f48abad",
   "metadata": {
    "scrolled": false
   },
   "outputs": [
    {
     "name": "stdout",
     "output_type": "stream",
     "text": [
      "Train Result:\n",
      "\n",
      "accuracy score: 0.9661\n",
      "\n",
      "Classification Report: \n",
      "               precision    recall  f1-score   support\n",
      "\n",
      "         0.0       0.97      0.96      0.96      1512\n",
      "         1.0       0.96      0.97      0.97      1614\n",
      "\n",
      "    accuracy                           0.97      3126\n",
      "   macro avg       0.97      0.97      0.97      3126\n",
      "weighted avg       0.97      0.97      0.97      3126\n",
      "\n",
      "\n",
      "Confusion Matrix: \n",
      " [[1454   58]\n",
      " [  48 1566]]\n",
      "\n",
      "ROC AUC: 0.9660\n",
      "\n",
      "\n",
      "******************************\n",
      "\n",
      "Test Result:\n",
      "\n",
      "accuracy score: 0.7996\n",
      "\n",
      "Classification Report: \n",
      "               precision    recall  f1-score   support\n",
      "\n",
      "         0.0       0.80      0.77      0.79       505\n",
      "         1.0       0.80      0.82      0.81       538\n",
      "\n",
      "    accuracy                           0.80      1043\n",
      "   macro avg       0.80      0.80      0.80      1043\n",
      "weighted avg       0.80      0.80      0.80      1043\n",
      "\n",
      "\n",
      "Confusion Matrix: \n",
      " [[391 114]\n",
      " [ 95 443]]\n",
      "\n",
      "ROC AUC: 0.7988\n",
      "\n"
     ]
    }
   ],
   "source": [
    "print_score(clf, tfidf_train, tfidf_valid, training_labels, validation_labels, train=True)\n",
    "print(\"\\n******************************\\n\")\n",
    "print_score(clf, tfidf_train, tfidf_valid, training_labels, validation_labels, train=False)"
   ]
  },
  {
   "cell_type": "code",
   "execution_count": null,
   "id": "ba71931b",
   "metadata": {},
   "outputs": [],
   "source": []
  },
  {
   "cell_type": "code",
   "execution_count": null,
   "id": "018471c1",
   "metadata": {},
   "outputs": [],
   "source": []
  },
  {
   "cell_type": "code",
   "execution_count": null,
   "id": "fba4fc98",
   "metadata": {},
   "outputs": [],
   "source": []
  },
  {
   "cell_type": "markdown",
   "id": "ccd0b4ac",
   "metadata": {},
   "source": [
    "# Methos 5: Multinomial Naive Bayes:"
   ]
  },
  {
   "cell_type": "code",
   "execution_count": 89,
   "id": "7079febb",
   "metadata": {},
   "outputs": [],
   "source": [
    "# Multinomial Naive Bayes\n",
    "from sklearn.naive_bayes import MultinomialNB\n",
    "\n",
    "mnb = MultinomialNB()\n",
    "\n",
    "mnb.fit(tfidf_train, training_labels)\n",
    "\n",
    "predmnb = mnb.predict(tfidf_valid)"
   ]
  },
  {
   "cell_type": "code",
   "execution_count": 90,
   "id": "2728d7f4",
   "metadata": {},
   "outputs": [
    {
     "name": "stdout",
     "output_type": "stream",
     "text": [
      "AxesSubplot(0.125,0.125;0.62x0.755)\n"
     ]
    },
    {
     "data": {
      "image/png": "[encoded data removed]",
      "text/plain": [
       "<Figure size 432x288 with 2 Axes>"
      ]
     },
     "metadata": {
      "needs_background": "light"
     },
     "output_type": "display_data"
    }
   ],
   "source": [
    "print(skplt.metrics.plot_confusion_matrix(validation_labels, predmnb))"
   ]
  },
  {
   "cell_type": "code",
   "execution_count": 93,
   "id": "cf2e1602",
   "metadata": {},
   "outputs": [],
   "source": [
    "#print(\"Score:\",round(accuracy_score(validation_labels, predmnb)*100,2))\n",
    "#print(\"Classification Report:\",classification_report(validation_labels, predmnb))"
   ]
  },
  {
   "cell_type": "code",
   "execution_count": 92,
   "id": "f7fa5e73",
   "metadata": {},
   "outputs": [
    {
     "name": "stdout",
     "output_type": "stream",
     "text": [
      "Train Result:\n",
      "\n",
      "accuracy score: 0.9383\n",
      "\n",
      "Classification Report: \n",
      "               precision    recall  f1-score   support\n",
      "\n",
      "         0.0       0.97      0.90      0.93      1512\n",
      "         1.0       0.91      0.97      0.94      1614\n",
      "\n",
      "    accuracy                           0.94      3126\n",
      "   macro avg       0.94      0.94      0.94      3126\n",
      "weighted avg       0.94      0.94      0.94      3126\n",
      "\n",
      "\n",
      "Confusion Matrix: \n",
      " [[1360  152]\n",
      " [  41 1573]]\n",
      "\n",
      "ROC AUC: 0.9370\n",
      "\n",
      "\n",
      "******************************\n",
      "\n",
      "Test Result:\n",
      "\n",
      "accuracy score: 0.7747\n",
      "\n",
      "Classification Report: \n",
      "               precision    recall  f1-score   support\n",
      "\n",
      "         0.0       0.84      0.66      0.74       505\n",
      "         1.0       0.73      0.89      0.80       538\n",
      "\n",
      "    accuracy                           0.77      1043\n",
      "   macro avg       0.79      0.77      0.77      1043\n",
      "weighted avg       0.79      0.77      0.77      1043\n",
      "\n",
      "\n",
      "Confusion Matrix: \n",
      " [[331 174]\n",
      " [ 61 477]]\n",
      "\n",
      "ROC AUC: 0.7710\n",
      "\n"
     ]
    }
   ],
   "source": [
    "print_score(mnb, tfidf_train, tfidf_valid, training_labels, validation_labels, train=True)\n",
    "print(\"\\n******************************\\n\")\n",
    "print_score(mnb, tfidf_train, tfidf_valid, training_labels, validation_labels, train=False)"
   ]
  },
  {
   "cell_type": "markdown",
   "id": "ab7a16c3",
   "metadata": {},
   "source": [
    "# Method 6: Support Vector Machines:"
   ]
  },
  {
   "cell_type": "code",
   "execution_count": 126,
   "id": "944d613c",
   "metadata": {},
   "outputs": [],
   "source": [
    "from sklearn.svm import SVC\n",
    "\n",
    "svm = SVC(kernel = 'rbf', random_state = 2022)\n",
    "\n",
    "Cs = np.logspace(-1,5,5,base = 2)\n",
    "gammas = np.logspace(-4,5,5,base = 2)\n",
    "param_grid = dict(C = Cs, gamma = gammas)"
   ]
  },
  {
   "cell_type": "code",
   "execution_count": 127,
   "id": "7e92506b",
   "metadata": {},
   "outputs": [
    {
     "data": {
      "text/plain": [
       "GridSearchCV(cv=5, estimator=SVC(random_state=2022),\n",
       "             param_grid={'C': array([ 0.5       ,  1.41421356,  4.        , 11.3137085 , 32.        ]),\n",
       "                         'gamma': array([ 0.0625    ,  0.29730178,  1.41421356,  6.72717132, 32.        ])},\n",
       "             scoring='accuracy')"
      ]
     },
     "execution_count": 127,
     "metadata": {},
     "output_type": "execute_result"
    }
   ],
   "source": [
    "grid = GridSearchCV(svm, param_grid = param_grid, cv = 5, scoring='accuracy')\n",
    "\n",
    "grid.fit(tfidf_train, training_labels)"
   ]
  },
  {
   "cell_type": "code",
   "execution_count": 128,
   "id": "17a7ee86",
   "metadata": {},
   "outputs": [
    {
     "data": {
      "text/plain": [
       "0.8039028753993609"
      ]
     },
     "execution_count": 128,
     "metadata": {},
     "output_type": "execute_result"
    }
   ],
   "source": [
    "grid.best_score_"
   ]
  },
  {
   "cell_type": "code",
   "execution_count": 130,
   "id": "89170194",
   "metadata": {},
   "outputs": [
    {
     "data": {
      "text/plain": [
       "{'C': 1.4142135623730951,\n",
       " 'break_ties': False,\n",
       " 'cache_size': 200,\n",
       " 'class_weight': None,\n",
       " 'coef0': 0.0,\n",
       " 'decision_function_shape': 'ovr',\n",
       " 'degree': 3,\n",
       " 'gamma': 1.4142135623730951,\n",
       " 'kernel': 'rbf',\n",
       " 'max_iter': -1,\n",
       " 'probability': False,\n",
       " 'random_state': 2022,\n",
       " 'shrinking': True,\n",
       " 'tol': 0.001,\n",
       " 'verbose': False}"
      ]
     },
     "execution_count": 130,
     "metadata": {},
     "output_type": "execute_result"
    }
   ],
   "source": [
    "grid.best_estimator_.get_params()"
   ]
  },
  {
   "cell_type": "code",
   "execution_count": 131,
   "id": "0f9ed26f",
   "metadata": {},
   "outputs": [],
   "source": [
    "svm1 = SVC(C = 1.4142135623730951,\n",
    " break_ties = False,\n",
    " cache_size = 200,\n",
    " class_weight = None,\n",
    " coef0 = 0.0,\n",
    " decision_function_shape = 'ovr',\n",
    " degree = 3,\n",
    " gamma = 1.4142135623730951,\n",
    " kernel = 'rbf',\n",
    " max_iter = -1,\n",
    " probability = False,\n",
    " random_state = 2022,\n",
    " shrinking = True,\n",
    " tol= 0.001,\n",
    " verbose= False)\n",
    "svm1.fit(tfidf_train, training_labels)\n",
    "\n",
    "predsvm1 = svm1.predict(tfidf_valid)"
   ]
  },
  {
   "cell_type": "code",
   "execution_count": 132,
   "id": "8dd2b7d5",
   "metadata": {},
   "outputs": [
    {
     "name": "stdout",
     "output_type": "stream",
     "text": [
      "Confusion Matrix for Support Vector Machine:\n",
      "AxesSubplot(0.125,0.125;0.62x0.755)\n"
     ]
    },
    {
     "data": {
      "image/png": "[encoded data removed]",
      "text/plain": [
       "<Figure size 432x288 with 2 Axes>"
      ]
     },
     "metadata": {
      "needs_background": "light"
     },
     "output_type": "display_data"
    }
   ],
   "source": [
    "print(\"Confusion Matrix for Support Vector Machine:\")\n",
    "print(skplt.metrics.plot_confusion_matrix(validation_labels, predsvm1))"
   ]
  },
  {
   "cell_type": "code",
   "execution_count": 129,
   "id": "7f9da191",
   "metadata": {},
   "outputs": [
    {
     "name": "stdout",
     "output_type": "stream",
     "text": [
      "Train Result:\n",
      "\n",
      "accuracy score: 0.9994\n",
      "\n",
      "Classification Report: \n",
      "               precision    recall  f1-score   support\n",
      "\n",
      "         0.0       1.00      1.00      1.00      1512\n",
      "         1.0       1.00      1.00      1.00      1614\n",
      "\n",
      "    accuracy                           1.00      3126\n",
      "   macro avg       1.00      1.00      1.00      3126\n",
      "weighted avg       1.00      1.00      1.00      3126\n",
      "\n",
      "\n",
      "Confusion Matrix: \n",
      " [[1510    2]\n",
      " [   0 1614]]\n",
      "\n",
      "ROC AUC: 0.9993\n",
      "\n",
      "\n",
      "******************************\n",
      "\n",
      "Test Result:\n",
      "\n",
      "accuracy score: 0.8063\n",
      "\n",
      "Classification Report: \n",
      "               precision    recall  f1-score   support\n",
      "\n",
      "         0.0       0.81      0.78      0.80       505\n",
      "         1.0       0.80      0.83      0.82       538\n",
      "\n",
      "    accuracy                           0.81      1043\n",
      "   macro avg       0.81      0.81      0.81      1043\n",
      "weighted avg       0.81      0.81      0.81      1043\n",
      "\n",
      "\n",
      "Confusion Matrix: \n",
      " [[392 113]\n",
      " [ 89 449]]\n",
      "\n",
      "ROC AUC: 0.8054\n",
      "\n"
     ]
    }
   ],
   "source": [
    "print_score(grid, tfidf_train, tfidf_valid, training_labels, validation_labels, train=True)\n",
    "print(\"\\n******************************\\n\")\n",
    "print_score(grid, tfidf_train, tfidf_valid, training_labels, validation_labels, train=False)"
   ]
  },
  {
   "cell_type": "markdown",
   "id": "3294931b",
   "metadata": {},
   "source": [
    "# ROC Curve:"
   ]
  },
  {
   "cell_type": "code",
   "execution_count": 136,
   "id": "842416a6",
   "metadata": {},
   "outputs": [],
   "source": [
    "from matplotlib.colors import ListedColormap\n",
    "from sklearn.metrics import confusion_matrix\n",
    "from sklearn.metrics import classification_report\n",
    "from sklearn.metrics import ConfusionMatrixDisplay\n",
    "from sklearn.metrics import plot_roc_curve\n",
    "from sklearn.metrics import roc_curve, auc "
   ]
  },
  {
   "cell_type": "code",
   "execution_count": 137,
   "id": "c7e5c29a",
   "metadata": {},
   "outputs": [],
   "source": [
    "classifiers = [\n",
    "    neighbors.KNeighborsClassifier(n_neighbors = 142),\n",
    "    RandomForestClassifier(bootstrap = True,\n",
    " ccp_alpha = 0.0,\n",
    " class_weight = None,\n",
    " criterion = 'gini',\n",
    " max_depth = None,\n",
    " max_features = 7,\n",
    " max_leaf_nodes = None,\n",
    " max_samples = 0.5,\n",
    " min_impurity_decrease = 0.0,\n",
    " min_impurity_split = None,\n",
    " min_samples_leaf = 1,\n",
    " min_samples_split = 2,\n",
    " min_weight_fraction_leaf = 0.0,\n",
    " n_estimators = 100,\n",
    " n_jobs = None,\n",
    " oob_score = False,\n",
    " random_state = 2022,\n",
    " verbose = 0,\n",
    " warm_start = False),\n",
    "    MultinomialNB(),\n",
    "    SVC(C = 1.4142135623730951,\n",
    " break_ties = False,\n",
    " cache_size = 200,\n",
    " class_weight = None,\n",
    " coef0 = 0.0,\n",
    " decision_function_shape = 'ovr',\n",
    " degree = 3,\n",
    " gamma = 1.4142135623730951,\n",
    " kernel = 'rbf',\n",
    " max_iter = -1,\n",
    " probability = False,\n",
    " random_state = 2022,\n",
    " shrinking = True,\n",
    " tol= 0.001,\n",
    " verbose= False)]"
   ]
  },
  {
   "cell_type": "code",
   "execution_count": 138,
   "id": "2a17d7b2",
   "metadata": {},
   "outputs": [
    {
     "data": {
      "image/png": "[encoded data removed]",
      "text/plain": [
       "<Figure size 432x288 with 1 Axes>"
      ]
     },
     "metadata": {
      "needs_background": "light"
     },
     "output_type": "display_data"
    }
   ],
   "source": [
    "fig, ax = plt.subplots()\n",
    "\n",
    "model_displays = {}\n",
    "for clf in classifiers:\n",
    "    clf.fit(tfidf_train, training_labels)\n",
    "    name = type(clf).__name__\n",
    "    model_displays[type(clf).__name__] = plot_roc_curve(\n",
    "        clf, tfidf_valid, validation_labels, ax=ax, name=name)\n",
    "plt.legend()\n",
    "_ = ax.set_title('ROC curve')\n",
    "_ = ax.set_xlabel('FP Rate')\n",
    "_ = ax.set_ylabel('TP Rate')"
   ]
  },
  {
   "cell_type": "code",
   "execution_count": null,
   "id": "5c4affde",
   "metadata": {},
   "outputs": [],
   "source": []
  }
 ],
 "metadata": {
  "kernelspec": {
   "display_name": "Python 3",
   "language": "python",
   "name": "python3"
  },
  "language_info": {
   "codemirror_mode": {
    "name": "ipython",
    "version": 3
   },
   "file_extension": ".py",
   "mimetype": "text/x-python",
   "name": "python",
   "nbconvert_exporter": "python",
   "pygments_lexer": "ipython3",
   "version": "3.8.8"
  }
 },
 "nbformat": 4,
 "nbformat_minor": 5
}
